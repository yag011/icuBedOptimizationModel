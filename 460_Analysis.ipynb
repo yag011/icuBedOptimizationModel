{
 "cells": [
  {
   "cell_type": "markdown",
   "metadata": {
    "colab_type": "text",
    "id": "WDJIcSmXQx9A"
   },
   "source": [
    "## OPEN QUESTIONS \n",
    "* NUMBER OF BEDS AVAILABLE\n",
    "* NUMBER OF ICU UNITS AVAILABLE\n",
    "* NUMBER OF NURSES DOCTORS AVAILABLE\n",
    "* CONSTRAINTS - DOCTORS IN EACH HOSPITAL, ICU BEDS, DISTANCE\n",
    "* HEALTH EQUIPMENT AVAILABLE\n",
    "* CLOSENESS TO THE HOSPITAL (?)\n",
    "* WHAT ELSE NEEDS TO BE DEFINED?\n",
    "* IS INSURANCE PART OF CONSIDERATION? \n",
    "  * If we are limiting the scope to ICU, I don't think this is a major factor, as almost all of them will be confirmed cases, and their medical bills should be covered. If this assumption is true, we can safely assume that medical costs wiil not be a deterrent.\n",
    "\n",
    "-- Also, WRT the number of doctors we have found, I don't think it's a comprehensive list of doctors available in NYC."
   ]
  },
  {
   "cell_type": "markdown",
   "metadata": {
    "colab_type": "text",
    "id": "NsjmNE-8mWyf"
   },
   "source": []
  },
  {
   "cell_type": "code",
   "execution_count": 3,
   "metadata": {
    "colab": {},
    "colab_type": "code",
    "id": "OeDE-A5Ry3mk"
   },
   "outputs": [
    {
     "name": "stderr",
     "output_type": "stream",
     "text": [
      "/opt/anaconda3/lib/python3.7/site-packages/sklearn/utils/deprecation.py:144: FutureWarning: The sklearn.metrics.classification module is  deprecated in version 0.22 and will be removed in version 0.24. The corresponding classes / functions should instead be imported from sklearn.metrics. Anything that cannot be imported from sklearn.metrics is now part of the private API.\n",
      "  warnings.warn(message, FutureWarning)\n"
     ]
    }
   ],
   "source": [
    "import numpy as np\n",
    "import pandas as pd\n",
    "import seaborn as sns\n",
    "import matplotlib.pyplot as plt\n",
    "import yellowbrick\n",
    "import datetime\n"
   ]
  },
  {
   "cell_type": "markdown",
   "metadata": {
    "colab_type": "text",
    "id": "fvvKs_NH3BxW"
   },
   "source": [
    "## IMPORT DATA SOURCE\n",
    "* https://github.com/thecityny/covid-19-nyc-data\n",
    "* https://github.com/nychealth/coronavirus-data"
   ]
  },
  {
   "cell_type": "code",
   "execution_count": 4,
   "metadata": {
    "colab": {},
    "colab_type": "code",
    "id": "_bC6UHd9zPRO"
   },
   "outputs": [],
   "source": [
    "url = ['https://raw.githubusercontent.com/thecityny/covid-19-nyc-data/master/age.csv',\n",
    "       'https://raw.githubusercontent.com/thecityny/covid-19-nyc-data/master/beds.csv',\n",
    "       'https://raw.githubusercontent.com/thecityny/covid-19-nyc-data/master/borough.csv',\n",
    "       'https://raw.githubusercontent.com/thecityny/covid-19-nyc-data/master/gender.csv',\n",
    "       'https://raw.githubusercontent.com/thecityny/covid-19-nyc-data/master/hospitalized.csv',\n",
    "       'https://raw.githubusercontent.com/thecityny/covid-19-nyc-data/master/state.csv',\n",
    "       'https://raw.githubusercontent.com/thecityny/covid-19-nyc-data/master/zcta.csv',\n",
    "       'https://raw.githubusercontent.com/nychealth/coronavirus-data/master/data-by-modzcta.csv',\n",
    "       'https://raw.githubusercontent.com/nychealth/coronavirus-data/master/tests-by-zcta.csv',\n",
    "       'https://raw.githubusercontent.com/nychealth/coronavirus-data/master/syndromic_data.csv',\n",
    "       'https://raw.githubusercontent.com/nychealth/coronavirus-data/master/by-boro.csv',\n",
    "       'https://raw.githubusercontent.com/nychealth/coronavirus-data/master/boro/boroughs-case-hosp-death.csv']\n",
    "       \n",
    "age = pd.read_csv(url[0], error_bad_lines=False) ## COVID BY AGE\n",
    "beds = pd.read_csv(url[1], error_bad_lines=False)\n",
    "borough = pd.read_csv(url[2], error_bad_lines=False)\n",
    "gender = pd.read_csv(url[3], error_bad_lines=False)\n",
    "hospital = pd.read_csv(url[4], error_bad_lines=False)\n",
    "state = pd.read_csv(url[5], error_bad_lines=False)\n",
    "zcta = pd.read_csv(url[6], error_bad_lines=False)\n",
    "case_by_zip = pd.read_csv(url[7], error_bad_lines=False)\n",
    "test_by_zip = pd.read_csv(url[8], error_bad_lines=False)\n",
    "admission = pd.read_csv(url[9], error_bad_lines=False)\n",
    "rate_by_boro = pd.read_csv(url[10], error_bad_lines=False)\n",
    "case_by_boro = pd.read_csv(url[11], error_bad_lines=False)"
   ]
  },
  {
   "cell_type": "markdown",
   "metadata": {
    "colab_type": "text",
    "id": "_nZfoxW9QKSk"
   },
   "source": [
    "### CASES OVER TIME"
   ]
  },
  {
   "cell_type": "code",
   "execution_count": 5,
   "metadata": {
    "colab": {
     "base_uri": "https://localhost:8080/",
     "height": 382
    },
    "colab_type": "code",
    "id": "eIcbYBF7zanM",
    "outputId": "a00a734c-21a2-4cad-8d23-5ae31eead25f"
   },
   "outputs": [
    {
     "data": {
      "text/plain": [
       "<seaborn.axisgrid.FacetGrid at 0x102253350>"
      ]
     },
     "execution_count": 5,
     "metadata": {},
     "output_type": "execute_result"
    },
    {
     "data": {
      "image/png": "[encoded data removed]",
      "text/plain": [
       "<Figure size 360x360 with 1 Axes>"
      ]
     },
     "metadata": {},
     "output_type": "display_data"
    }
   ],
   "source": [
    "hospital.tail(5)\n",
    "sns.relplot(x = 'timestamp', y = 'hospitalized', data = hospital)"
   ]
  },
  {
   "cell_type": "code",
   "execution_count": 6,
   "metadata": {
    "colab": {
     "base_uri": "https://localhost:8080/",
     "height": 698
    },
    "colab_type": "code",
    "id": "67RNxOns3p23",
    "outputId": "b012a097-cece-412f-865d-1089235d3fa8"
   },
   "outputs": [],
   "source": [
    "age.head()\n",
    "age['timestamp'] = pd.to_datetime(age['timestamp'])\n",
    "#age['timestamp'] = age['timestamp'].dt.strftime(\"%m/%d/%y\")\n",
    "age.index = age['timestamp'] \n",
    "age.drop('timestamp', inplace = True, axis = 1)"
   ]
  },
  {
   "cell_type": "code",
   "execution_count": 7,
   "metadata": {
    "colab": {},
    "colab_type": "code",
    "id": "u0URtW9H1ewD"
   },
   "outputs": [],
   "source": [
    "age_bydate = age.groupby('type').resample('D').sum()\n",
    "age_bydate.reset_index(inplace = True)\n",
    "age_bydate['timestamp'] = age_bydate['timestamp'].dt.strftime(\"%m/%d/%y\")"
   ]
  },
  {
   "cell_type": "code",
   "execution_count": 10,
   "metadata": {
    "colab": {
     "base_uri": "https://localhost:8080/",
     "height": 164
    },
    "colab_type": "code",
    "id": "BsivoUGtCtIw",
    "outputId": "a73d825a-4aa1-4edb-b24d-94b4578eca22"
   },
   "outputs": [
    {
     "data": {
      "text/html": [
       "<div>\n",
       "<style scoped>\n",
       "    .dataframe tbody tr th:only-of-type {\n",
       "        vertical-align: middle;\n",
       "    }\n",
       "\n",
       "    .dataframe tbody tr th {\n",
       "        vertical-align: top;\n",
       "    }\n",
       "\n",
       "    .dataframe thead th {\n",
       "        text-align: right;\n",
       "    }\n",
       "</style>\n",
       "<table border=\"1\" class=\"dataframe\">\n",
       "  <thead>\n",
       "    <tr style=\"text-align: right;\">\n",
       "      <th></th>\n",
       "      <th>type</th>\n",
       "      <th>timestamp</th>\n",
       "      <th>ages_0_17</th>\n",
       "      <th>ages_18_44</th>\n",
       "      <th>ages_45_64</th>\n",
       "      <th>ages_65_74</th>\n",
       "      <th>ages_75_older</th>\n",
       "      <th>unknown</th>\n",
       "      <th>total</th>\n",
       "    </tr>\n",
       "  </thead>\n",
       "  <tbody>\n",
       "    <tr>\n",
       "      <th>130</th>\n",
       "      <td>deaths-no-underlying</td>\n",
       "      <td>04/14/20</td>\n",
       "      <td>0</td>\n",
       "      <td>25</td>\n",
       "      <td>59</td>\n",
       "      <td>26</td>\n",
       "      <td>27</td>\n",
       "      <td>0</td>\n",
       "      <td>137</td>\n",
       "    </tr>\n",
       "    <tr>\n",
       "      <th>244</th>\n",
       "      <td>deaths-probable</td>\n",
       "      <td>05/13/20</td>\n",
       "      <td>3</td>\n",
       "      <td>125</td>\n",
       "      <td>935</td>\n",
       "      <td>930</td>\n",
       "      <td>2371</td>\n",
       "      <td>1</td>\n",
       "      <td>4365</td>\n",
       "    </tr>\n",
       "    <tr>\n",
       "      <th>335</th>\n",
       "      <td>ever-hospitalized</td>\n",
       "      <td>04/29/20</td>\n",
       "      <td>282</td>\n",
       "      <td>5917</td>\n",
       "      <td>14447</td>\n",
       "      <td>9480</td>\n",
       "      <td>11520</td>\n",
       "      <td>2</td>\n",
       "      <td>41648</td>\n",
       "    </tr>\n",
       "    <tr>\n",
       "      <th>281</th>\n",
       "      <td>deaths-underlying</td>\n",
       "      <td>04/29/20</td>\n",
       "      <td>6</td>\n",
       "      <td>401</td>\n",
       "      <td>2363</td>\n",
       "      <td>2255</td>\n",
       "      <td>4140</td>\n",
       "      <td>0</td>\n",
       "      <td>9165</td>\n",
       "    </tr>\n",
       "    <tr>\n",
       "      <th>267</th>\n",
       "      <td>deaths-underlying</td>\n",
       "      <td>04/15/20</td>\n",
       "      <td>3</td>\n",
       "      <td>263</td>\n",
       "      <td>1447</td>\n",
       "      <td>1369</td>\n",
       "      <td>2466</td>\n",
       "      <td>0</td>\n",
       "      <td>5548</td>\n",
       "    </tr>\n",
       "    <tr>\n",
       "      <th>25</th>\n",
       "      <td>cases</td>\n",
       "      <td>04/16/20</td>\n",
       "      <td>2395</td>\n",
       "      <td>45648</td>\n",
       "      <td>44460</td>\n",
       "      <td>15490</td>\n",
       "      <td>13892</td>\n",
       "      <td>263</td>\n",
       "      <td>122148</td>\n",
       "    </tr>\n",
       "    <tr>\n",
       "      <th>48</th>\n",
       "      <td>cases</td>\n",
       "      <td>05/09/20</td>\n",
       "      <td>4459</td>\n",
       "      <td>65645</td>\n",
       "      <td>65546</td>\n",
       "      <td>22260</td>\n",
       "      <td>20504</td>\n",
       "      <td>352</td>\n",
       "      <td>178766</td>\n",
       "    </tr>\n",
       "    <tr>\n",
       "      <th>321</th>\n",
       "      <td>ever-hospitalized</td>\n",
       "      <td>04/15/20</td>\n",
       "      <td>205</td>\n",
       "      <td>4636</td>\n",
       "      <td>11198</td>\n",
       "      <td>6957</td>\n",
       "      <td>7905</td>\n",
       "      <td>2</td>\n",
       "      <td>30903</td>\n",
       "    </tr>\n",
       "    <tr>\n",
       "      <th>218</th>\n",
       "      <td>deaths-probable</td>\n",
       "      <td>04/17/20</td>\n",
       "      <td>0</td>\n",
       "      <td>72</td>\n",
       "      <td>522</td>\n",
       "      <td>560</td>\n",
       "      <td>1244</td>\n",
       "      <td>0</td>\n",
       "      <td>2398</td>\n",
       "    </tr>\n",
       "    <tr>\n",
       "      <th>256</th>\n",
       "      <td>deaths-underlying</td>\n",
       "      <td>04/04/20</td>\n",
       "      <td>3</td>\n",
       "      <td>165</td>\n",
       "      <td>760</td>\n",
       "      <td>746</td>\n",
       "      <td>1145</td>\n",
       "      <td>0</td>\n",
       "      <td>2819</td>\n",
       "    </tr>\n",
       "  </tbody>\n",
       "</table>\n",
       "</div>"
      ],
      "text/plain": [
       "                     type timestamp  ages_0_17  ages_18_44  ages_45_64  \\\n",
       "130  deaths-no-underlying  04/14/20          0          25          59   \n",
       "244       deaths-probable  05/13/20          3         125         935   \n",
       "335     ever-hospitalized  04/29/20        282        5917       14447   \n",
       "281     deaths-underlying  04/29/20          6         401        2363   \n",
       "267     deaths-underlying  04/15/20          3         263        1447   \n",
       "25                  cases  04/16/20       2395       45648       44460   \n",
       "48                  cases  05/09/20       4459       65645       65546   \n",
       "321     ever-hospitalized  04/15/20        205        4636       11198   \n",
       "218       deaths-probable  04/17/20          0          72         522   \n",
       "256     deaths-underlying  04/04/20          3         165         760   \n",
       "\n",
       "     ages_65_74  ages_75_older  unknown   total  \n",
       "130          26             27        0     137  \n",
       "244         930           2371        1    4365  \n",
       "335        9480          11520        2   41648  \n",
       "281        2255           4140        0    9165  \n",
       "267        1369           2466        0    5548  \n",
       "25        15490          13892      263  122148  \n",
       "48        22260          20504      352  178766  \n",
       "321        6957           7905        2   30903  \n",
       "218         560           1244        0    2398  \n",
       "256         746           1145        0    2819  "
      ]
     },
     "execution_count": 10,
     "metadata": {},
     "output_type": "execute_result"
    }
   ],
   "source": [
    "age_bydate.sample(10)"
   ]
  },
  {
   "cell_type": "code",
   "execution_count": 0,
   "metadata": {
    "colab": {
     "base_uri": "https://localhost:8080/",
     "height": 391
    },
    "colab_type": "code",
    "id": "3X0MtdPX1gNR",
    "outputId": "9fdd4079-6b71-4fe5-9d61-97fce00dfa86"
   },
   "outputs": [
    {
     "data": {
      "text/plain": [
       "<function matplotlib.pyplot.show>"
      ]
     },
     "execution_count": 11,
     "metadata": {
      "tags": []
     },
     "output_type": "execute_result"
    },
    {
     "data": {
      "image/png": "[encoded data removed]",
      "text/plain": [
       "<Figure size 1080x360 with 1 Axes>"
      ]
     },
     "metadata": {
      "tags": []
     },
     "output_type": "display_data"
    }
   ],
   "source": [
    "# NOT SURE WHY THE DROP HAPPENS - AS FAR AS I CAN SEE THERE ARE ONLY 1 REPORT PER DATE FROM ARPIL. PROBABLY THEY REPORTED TWICE, SO DOES NOT MAKE SENSE TO SUM. \n",
    "plt.figure(figsize=(15, 5))\n",
    "sns.pointplot(x = 'timestamp', y = 'total' , data = age_bydate[age_bydate['type']=='cases'], color='pink')\n",
    "sns.pointplot(x = 'timestamp', y = 'total' , data = age_bydate[age_bydate['type']=='deaths'], color='gold')\n",
    "plt.xticks(rotation = 45)\n",
    "plt.title('NYC Corona Case vs. Death')\n",
    "plt.show"
   ]
  },
  {
   "cell_type": "markdown",
   "metadata": {
    "colab_type": "text",
    "id": "_xgWQnEnOiqO"
   },
   "source": [
    "### CASE BY ZIP CODE\n"
   ]
  },
  {
   "cell_type": "markdown",
   "metadata": {
    "colab_type": "text",
    "id": "7Lx-xRbRamyV"
   },
   "source": [
    "* Count of confirmed cases\n",
    "* Rate of confirmed cases per 100,000 people by ZCTA\n",
    "* Population denominators for ZCTAs derived from intercensal estimates by the Bureau of Epidemiology Services (see “Rates per 100,000 people” for more details)\n",
    "* Count of confirmed deaths\n",
    "* Percentage of people ever tested for COVID-19 who tested positive\n",
    "* Rate of confirmed deaths per 100,000 people by ZCTA\n"
   ]
  },
  {
   "cell_type": "code",
   "execution_count": 0,
   "metadata": {
    "colab": {
     "base_uri": "https://localhost:8080/",
     "height": 258
    },
    "colab_type": "code",
    "id": "Aav8AJKWOk9i",
    "outputId": "6935f2c9-7b0c-497f-a49b-6599754857c6"
   },
   "outputs": [
    {
     "data": {
      "text/html": [
       "<div>\n",
       "<style scoped>\n",
       "    .dataframe tbody tr th:only-of-type {\n",
       "        vertical-align: middle;\n",
       "    }\n",
       "\n",
       "    .dataframe tbody tr th {\n",
       "        vertical-align: top;\n",
       "    }\n",
       "\n",
       "    .dataframe thead th {\n",
       "        text-align: right;\n",
       "    }\n",
       "</style>\n",
       "<table border=\"1\" class=\"dataframe\">\n",
       "  <thead>\n",
       "    <tr style=\"text-align: right;\">\n",
       "      <th></th>\n",
       "      <th>MODIFIED_ZCTA</th>\n",
       "      <th>NEIGHBORHOOD_NAME</th>\n",
       "      <th>BOROUGH_GROUP</th>\n",
       "      <th>COVID_CASE_COUNT</th>\n",
       "      <th>COVID_CASE_RATE</th>\n",
       "      <th>POP_DENOMINATOR</th>\n",
       "      <th>COVID_DEATH_COUNT</th>\n",
       "      <th>COVID_DEATH_RATE</th>\n",
       "      <th>PERCENT_POSITIVE</th>\n",
       "    </tr>\n",
       "  </thead>\n",
       "  <tbody>\n",
       "    <tr>\n",
       "      <th>0</th>\n",
       "      <td>10001</td>\n",
       "      <td>Chelsea - Clinton</td>\n",
       "      <td>Manhattan</td>\n",
       "      <td>358</td>\n",
       "      <td>1519.33</td>\n",
       "      <td>23563.03</td>\n",
       "      <td>21</td>\n",
       "      <td>89.12</td>\n",
       "      <td>17.77</td>\n",
       "    </tr>\n",
       "    <tr>\n",
       "      <th>1</th>\n",
       "      <td>10002</td>\n",
       "      <td>Union Square - Lower East Side</td>\n",
       "      <td>Manhattan</td>\n",
       "      <td>1027</td>\n",
       "      <td>1338.02</td>\n",
       "      <td>76755.41</td>\n",
       "      <td>143</td>\n",
       "      <td>186.31</td>\n",
       "      <td>24.53</td>\n",
       "    </tr>\n",
       "    <tr>\n",
       "      <th>2</th>\n",
       "      <td>10003</td>\n",
       "      <td>Union Square - Lower East Side</td>\n",
       "      <td>Manhattan</td>\n",
       "      <td>445</td>\n",
       "      <td>827.11</td>\n",
       "      <td>53801.62</td>\n",
       "      <td>32</td>\n",
       "      <td>59.48</td>\n",
       "      <td>14.64</td>\n",
       "    </tr>\n",
       "    <tr>\n",
       "      <th>3</th>\n",
       "      <td>10004</td>\n",
       "      <td>Lower Manhattan</td>\n",
       "      <td>Manhattan</td>\n",
       "      <td>31</td>\n",
       "      <td>849.17</td>\n",
       "      <td>3650.61</td>\n",
       "      <td>1</td>\n",
       "      <td>27.39</td>\n",
       "      <td>15.20</td>\n",
       "    </tr>\n",
       "    <tr>\n",
       "      <th>4</th>\n",
       "      <td>10005</td>\n",
       "      <td>Lower Manhattan</td>\n",
       "      <td>Manhattan</td>\n",
       "      <td>61</td>\n",
       "      <td>726.53</td>\n",
       "      <td>8396.11</td>\n",
       "      <td>2</td>\n",
       "      <td>23.82</td>\n",
       "      <td>12.79</td>\n",
       "    </tr>\n",
       "  </tbody>\n",
       "</table>\n",
       "</div>"
      ],
      "text/plain": [
       "   MODIFIED_ZCTA  ... PERCENT_POSITIVE\n",
       "0          10001  ...            17.77\n",
       "1          10002  ...            24.53\n",
       "2          10003  ...            14.64\n",
       "3          10004  ...            15.20\n",
       "4          10005  ...            12.79\n",
       "\n",
       "[5 rows x 9 columns]"
      ]
     },
     "execution_count": 12,
     "metadata": {
      "tags": []
     },
     "output_type": "execute_result"
    }
   ],
   "source": [
    "case_by_zip.head()"
   ]
  },
  {
   "cell_type": "code",
   "execution_count": 0,
   "metadata": {
    "colab": {},
    "colab_type": "code",
    "id": "ygV-GclkInIH"
   },
   "outputs": [],
   "source": [
    "case_zip_group_sum = case_by_zip.groupby('BOROUGH_GROUP').sum().reset_index().drop(['MODIFIED_ZCTA','COVID_CASE_RATE','COVID_DEATH_RATE','PERCENT_POSITIVE'], axis = 1)\n",
    "case_zip_group_mean = case_by_zip.groupby('BOROUGH_GROUP').mean().reset_index().drop(['BOROUGH_GROUP','MODIFIED_ZCTA','COVID_CASE_COUNT','POP_DENOMINATOR','COVID_DEATH_COUNT'], axis = 1)"
   ]
  },
  {
   "cell_type": "markdown",
   "metadata": {
    "colab_type": "text",
    "id": "EGbsLv1VdlHj"
   },
   "source": [
    "#### Total Cases so far - need to confirm current counts\n",
    "#### Need to calculate current COVID CASE RATE\n",
    "#### Need to calculate future percent positive\n",
    "\n"
   ]
  },
  {
   "cell_type": "code",
   "execution_count": 0,
   "metadata": {
    "colab": {
     "base_uri": "https://localhost:8080/",
     "height": 224
    },
    "colab_type": "code",
    "id": "lo4wvunFdPdj",
    "outputId": "74878768-362d-4430-ada6-f254a5868d48"
   },
   "outputs": [
    {
     "data": {
      "text/html": [
       "<div>\n",
       "<style scoped>\n",
       "    .dataframe tbody tr th:only-of-type {\n",
       "        vertical-align: middle;\n",
       "    }\n",
       "\n",
       "    .dataframe tbody tr th {\n",
       "        vertical-align: top;\n",
       "    }\n",
       "\n",
       "    .dataframe thead th {\n",
       "        text-align: right;\n",
       "    }\n",
       "</style>\n",
       "<table border=\"1\" class=\"dataframe\">\n",
       "  <thead>\n",
       "    <tr style=\"text-align: right;\">\n",
       "      <th></th>\n",
       "      <th>BOROUGH_GROUP</th>\n",
       "      <th>COVID_CASE_COUNT</th>\n",
       "      <th>POP_DENOMINATOR</th>\n",
       "      <th>COVID_DEATH_COUNT</th>\n",
       "      <th>COVID_CASE_RATE</th>\n",
       "      <th>COVID_DEATH_RATE</th>\n",
       "      <th>PERCENT_POSITIVE</th>\n",
       "    </tr>\n",
       "  </thead>\n",
       "  <tbody>\n",
       "    <tr>\n",
       "      <th>0</th>\n",
       "      <td>Bronx</td>\n",
       "      <td>44005</td>\n",
       "      <td>1434692.65</td>\n",
       "      <td>3528</td>\n",
       "      <td>3085.314400</td>\n",
       "      <td>238.993600</td>\n",
       "      <td>31.191600</td>\n",
       "    </tr>\n",
       "    <tr>\n",
       "      <th>1</th>\n",
       "      <td>Brooklyn</td>\n",
       "      <td>52645</td>\n",
       "      <td>2582829.99</td>\n",
       "      <td>5057</td>\n",
       "      <td>2006.953243</td>\n",
       "      <td>200.613784</td>\n",
       "      <td>26.658378</td>\n",
       "    </tr>\n",
       "    <tr>\n",
       "      <th>2</th>\n",
       "      <td>Manhattan</td>\n",
       "      <td>23747</td>\n",
       "      <td>1611943.49</td>\n",
       "      <td>2246</td>\n",
       "      <td>1381.910455</td>\n",
       "      <td>124.227273</td>\n",
       "      <td>18.976136</td>\n",
       "    </tr>\n",
       "    <tr>\n",
       "      <th>3</th>\n",
       "      <td>Queens</td>\n",
       "      <td>59785</td>\n",
       "      <td>2288709.82</td>\n",
       "      <td>5031</td>\n",
       "      <td>2536.066780</td>\n",
       "      <td>199.473898</td>\n",
       "      <td>30.166271</td>\n",
       "    </tr>\n",
       "    <tr>\n",
       "      <th>4</th>\n",
       "      <td>Staten Island</td>\n",
       "      <td>13266</td>\n",
       "      <td>476179.01</td>\n",
       "      <td>817</td>\n",
       "      <td>2802.653333</td>\n",
       "      <td>162.840000</td>\n",
       "      <td>28.836667</td>\n",
       "    </tr>\n",
       "  </tbody>\n",
       "</table>\n",
       "</div>"
      ],
      "text/plain": [
       "   BOROUGH_GROUP  COVID_CASE_COUNT  ...  COVID_DEATH_RATE  PERCENT_POSITIVE\n",
       "0          Bronx             44005  ...        238.993600         31.191600\n",
       "1       Brooklyn             52645  ...        200.613784         26.658378\n",
       "2      Manhattan             23747  ...        124.227273         18.976136\n",
       "3         Queens             59785  ...        199.473898         30.166271\n",
       "4  Staten Island             13266  ...        162.840000         28.836667\n",
       "\n",
       "[5 rows x 7 columns]"
      ]
     },
     "execution_count": 14,
     "metadata": {
      "tags": []
     },
     "output_type": "execute_result"
    }
   ],
   "source": [
    "case_zip_group = pd.concat([case_zip_group_sum, case_zip_group_mean], axis=1).reindex(case_zip_group_sum.index)\n",
    "case_zip_group"
   ]
  },
  {
   "cell_type": "code",
   "execution_count": 0,
   "metadata": {
    "colab": {
     "base_uri": "https://localhost:8080/",
     "height": 376
    },
    "colab_type": "code",
    "id": "4v6WbN_tHMD_",
    "outputId": "a36a6fed-c256-4eda-f9c2-60daafd175ba"
   },
   "outputs": [
    {
     "data": {
      "image/png": "[encoded data removed]",
      "text/plain": [
       "<Figure size 576x396 with 1 Axes>"
      ]
     },
     "metadata": {
      "tags": []
     },
     "output_type": "display_data"
    }
   ],
   "source": [
    "sns.barplot(x = 'BOROUGH_GROUP', y = 'COVID_CASE_COUNT', data = case_by_zip.groupby('BOROUGH_GROUP').sum().reset_index(), palette = 'Blues')\n",
    "plt.title('Case By Borough')\n",
    "plt.show()"
   ]
  },
  {
   "cell_type": "markdown",
   "metadata": {
    "colab_type": "text",
    "id": "5ZSHHSixBmJO"
   },
   "source": [
    "This file contains counts and rates of confirmed cases, hospitalizations, and deaths, by NYC borough of residence. Rates are:\n",
    "\n",
    "Cumulative since the start of the outbreak\n",
    "Per 100,000 people by borough of residence\n",
    "Note that sum of counts in this file may not match values in Citywide tables because of records with missing geographic information. This file does not currently contain information on probable deaths."
   ]
  },
  {
   "cell_type": "code",
   "execution_count": 0,
   "metadata": {
    "colab": {
     "base_uri": "https://localhost:8080/",
     "height": 224
    },
    "colab_type": "code",
    "id": "RhX6Nl_nBYyn",
    "outputId": "8e6426fc-515f-4cc1-97b6-aef6b5dd1295"
   },
   "outputs": [
    {
     "data": {
      "text/html": [
       "<div>\n",
       "<style scoped>\n",
       "    .dataframe tbody tr th:only-of-type {\n",
       "        vertical-align: middle;\n",
       "    }\n",
       "\n",
       "    .dataframe tbody tr th {\n",
       "        vertical-align: top;\n",
       "    }\n",
       "\n",
       "    .dataframe thead th {\n",
       "        text-align: right;\n",
       "    }\n",
       "</style>\n",
       "<table border=\"1\" class=\"dataframe\">\n",
       "  <thead>\n",
       "    <tr style=\"text-align: right;\">\n",
       "      <th></th>\n",
       "      <th>DATE_OF_INTEREST</th>\n",
       "      <th>BK_CASE_COUNT</th>\n",
       "      <th>BK_HOSPITALIZED_COUNT</th>\n",
       "      <th>BK_DEATH_COUNT</th>\n",
       "      <th>BX_CASE_COUNT</th>\n",
       "      <th>BX_HOSPITALIZED_COUNT</th>\n",
       "      <th>BX_DEATH_COUNT</th>\n",
       "      <th>MN_CASE_COUNT</th>\n",
       "      <th>MN_HOSPITALIZED_COUNT</th>\n",
       "      <th>MN_DEATH_COUNT</th>\n",
       "      <th>QN_CASE_COUNT</th>\n",
       "      <th>QN_HOSPITALIZED_COUNT</th>\n",
       "      <th>QN_DEATH_COUNT</th>\n",
       "      <th>SI_CASE_COUNT</th>\n",
       "      <th>SI_HOSPITALIZED_COUNT</th>\n",
       "      <th>SI_DEATH_COUNT</th>\n",
       "    </tr>\n",
       "  </thead>\n",
       "  <tbody>\n",
       "    <tr>\n",
       "      <th>86</th>\n",
       "      <td>05/25/2020</td>\n",
       "      <td>153</td>\n",
       "      <td>18</td>\n",
       "      <td>6</td>\n",
       "      <td>89</td>\n",
       "      <td>20</td>\n",
       "      <td>4</td>\n",
       "      <td>66</td>\n",
       "      <td>9</td>\n",
       "      <td>9</td>\n",
       "      <td>106</td>\n",
       "      <td>16</td>\n",
       "      <td>6</td>\n",
       "      <td>24</td>\n",
       "      <td>0</td>\n",
       "      <td>2</td>\n",
       "    </tr>\n",
       "    <tr>\n",
       "      <th>87</th>\n",
       "      <td>05/26/2020</td>\n",
       "      <td>200</td>\n",
       "      <td>18</td>\n",
       "      <td>7</td>\n",
       "      <td>179</td>\n",
       "      <td>31</td>\n",
       "      <td>7</td>\n",
       "      <td>103</td>\n",
       "      <td>8</td>\n",
       "      <td>3</td>\n",
       "      <td>169</td>\n",
       "      <td>22</td>\n",
       "      <td>5</td>\n",
       "      <td>33</td>\n",
       "      <td>2</td>\n",
       "      <td>1</td>\n",
       "    </tr>\n",
       "    <tr>\n",
       "      <th>88</th>\n",
       "      <td>05/27/2020</td>\n",
       "      <td>90</td>\n",
       "      <td>10</td>\n",
       "      <td>2</td>\n",
       "      <td>80</td>\n",
       "      <td>16</td>\n",
       "      <td>3</td>\n",
       "      <td>55</td>\n",
       "      <td>3</td>\n",
       "      <td>1</td>\n",
       "      <td>83</td>\n",
       "      <td>11</td>\n",
       "      <td>6</td>\n",
       "      <td>16</td>\n",
       "      <td>0</td>\n",
       "      <td>0</td>\n",
       "    </tr>\n",
       "    <tr>\n",
       "      <th>89</th>\n",
       "      <td>05/28/2020</td>\n",
       "      <td>33</td>\n",
       "      <td>0</td>\n",
       "      <td>3</td>\n",
       "      <td>20</td>\n",
       "      <td>4</td>\n",
       "      <td>1</td>\n",
       "      <td>22</td>\n",
       "      <td>0</td>\n",
       "      <td>1</td>\n",
       "      <td>29</td>\n",
       "      <td>1</td>\n",
       "      <td>2</td>\n",
       "      <td>4</td>\n",
       "      <td>0</td>\n",
       "      <td>1</td>\n",
       "    </tr>\n",
       "    <tr>\n",
       "      <th>90</th>\n",
       "      <td>05/29/2020</td>\n",
       "      <td>3</td>\n",
       "      <td>0</td>\n",
       "      <td>0</td>\n",
       "      <td>2</td>\n",
       "      <td>0</td>\n",
       "      <td>0</td>\n",
       "      <td>1</td>\n",
       "      <td>0</td>\n",
       "      <td>0</td>\n",
       "      <td>0</td>\n",
       "      <td>0</td>\n",
       "      <td>0</td>\n",
       "      <td>0</td>\n",
       "      <td>0</td>\n",
       "      <td>0</td>\n",
       "    </tr>\n",
       "  </tbody>\n",
       "</table>\n",
       "</div>"
      ],
      "text/plain": [
       "   DATE_OF_INTEREST  BK_CASE_COUNT  ...  SI_HOSPITALIZED_COUNT  SI_DEATH_COUNT\n",
       "86       05/25/2020            153  ...                      0               2\n",
       "87       05/26/2020            200  ...                      2               1\n",
       "88       05/27/2020             90  ...                      0               0\n",
       "89       05/28/2020             33  ...                      0               1\n",
       "90       05/29/2020              3  ...                      0               0\n",
       "\n",
       "[5 rows x 16 columns]"
      ]
     },
     "execution_count": 16,
     "metadata": {
      "tags": []
     },
     "output_type": "execute_result"
    }
   ],
   "source": [
    "case_by_boro.tail(5)"
   ]
  },
  {
   "cell_type": "markdown",
   "metadata": {
    "colab_type": "text",
    "id": "PRPOnWt6r9qL"
   },
   "source": [
    "# CONSTRAINTS\n",
    "\n",
    "SOURCE: Marc Lipsitch, Harvard epidemiologist.\n",
    "\n",
    "Adults hospitalized\n",
    "Assumes hospitalization rate of 19% for those under 65 and 28.5% for those 65+.\n",
    "\n",
    "Adults needing I.C.U. care\n",
    "Assumes 19% I.C.U. rate for those hospitalized under 65 and 28.5% for those 65+."
   ]
  },
  {
   "cell_type": "markdown",
   "metadata": {
    "colab_type": "text",
    "id": "eKrzAGVW5Sh6"
   },
   "source": [
    "**CONSTAINT 1: Patients**"
   ]
  },
  {
   "cell_type": "code",
   "execution_count": 0,
   "metadata": {
    "colab": {},
    "colab_type": "code",
    "id": "yKOQdwSFoqbz"
   },
   "outputs": [],
   "source": [
    "#VOX.com article as of 3/27\n",
    "#There are about 4700 covid-related hospitalization \n",
    "#850 ICU hospitalization "
   ]
  },
  {
   "cell_type": "code",
   "execution_count": 0,
   "metadata": {
    "colab": {},
    "colab_type": "code",
    "id": "whdg0tSXuSp5"
   },
   "outputs": [],
   "source": [
    "\n",
    "MN_data = case_by_boro[['DATE_OF_INTEREST','MN_CASE_COUNT','MN_HOSPITALIZED_COUNT','MN_DEATH_COUNT']]"
   ]
  },
  {
   "cell_type": "code",
   "execution_count": 0,
   "metadata": {
    "colab": {
     "base_uri": "https://localhost:8080/",
     "height": 204
    },
    "colab_type": "code",
    "id": "LIKKo1r47rCf",
    "outputId": "2b390b17-8f7d-44dd-de38-a320a4709320"
   },
   "outputs": [
    {
     "data": {
      "text/html": [
       "<div>\n",
       "<style scoped>\n",
       "    .dataframe tbody tr th:only-of-type {\n",
       "        vertical-align: middle;\n",
       "    }\n",
       "\n",
       "    .dataframe tbody tr th {\n",
       "        vertical-align: top;\n",
       "    }\n",
       "\n",
       "    .dataframe thead th {\n",
       "        text-align: right;\n",
       "    }\n",
       "</style>\n",
       "<table border=\"1\" class=\"dataframe\">\n",
       "  <thead>\n",
       "    <tr style=\"text-align: right;\">\n",
       "      <th></th>\n",
       "      <th>DATE_OF_INTEREST</th>\n",
       "      <th>MN_CASE_COUNT</th>\n",
       "      <th>MN_HOSPITALIZED_COUNT</th>\n",
       "      <th>MN_DEATH_COUNT</th>\n",
       "    </tr>\n",
       "  </thead>\n",
       "  <tbody>\n",
       "    <tr>\n",
       "      <th>0</th>\n",
       "      <td>02/29/2020</td>\n",
       "      <td>1</td>\n",
       "      <td>2</td>\n",
       "      <td>0</td>\n",
       "    </tr>\n",
       "    <tr>\n",
       "      <th>1</th>\n",
       "      <td>03/01/2020</td>\n",
       "      <td>0</td>\n",
       "      <td>0</td>\n",
       "      <td>0</td>\n",
       "    </tr>\n",
       "    <tr>\n",
       "      <th>2</th>\n",
       "      <td>03/02/2020</td>\n",
       "      <td>0</td>\n",
       "      <td>4</td>\n",
       "      <td>0</td>\n",
       "    </tr>\n",
       "    <tr>\n",
       "      <th>3</th>\n",
       "      <td>03/03/2020</td>\n",
       "      <td>0</td>\n",
       "      <td>4</td>\n",
       "      <td>0</td>\n",
       "    </tr>\n",
       "    <tr>\n",
       "      <th>4</th>\n",
       "      <td>03/04/2020</td>\n",
       "      <td>2</td>\n",
       "      <td>5</td>\n",
       "      <td>0</td>\n",
       "    </tr>\n",
       "  </tbody>\n",
       "</table>\n",
       "</div>"
      ],
      "text/plain": [
       "  DATE_OF_INTEREST  MN_CASE_COUNT  MN_HOSPITALIZED_COUNT  MN_DEATH_COUNT\n",
       "0       02/29/2020              1                      2               0\n",
       "1       03/01/2020              0                      0               0\n",
       "2       03/02/2020              0                      4               0\n",
       "3       03/03/2020              0                      4               0\n",
       "4       03/04/2020              2                      5               0"
      ]
     },
     "execution_count": 19,
     "metadata": {
      "tags": []
     },
     "output_type": "execute_result"
    }
   ],
   "source": [
    "MN_data.head(5)"
   ]
  },
  {
   "cell_type": "code",
   "execution_count": 0,
   "metadata": {
    "colab": {},
    "colab_type": "code",
    "id": "hv6LsidXmZ04"
   },
   "outputs": [],
   "source": [
    "date_list = list()\n",
    "in_hospital_list = list()\n",
    "\n",
    "for i in range(len(MN_data)):\n",
    "  if i <= 12: \n",
    "    in_hospital = sum(MN_data['MN_HOSPITALIZED_COUNT'][:i+1])+ - sum(MN_data['MN_DEATH_COUNT'][:i+1])\n",
    "    date = MN_data['DATE_OF_INTEREST'][i]\n",
    "    date_list.append(date)  \n",
    "    in_hospital_list.append(in_hospital)\n",
    "  else: \n",
    "    in_hospital = sum(MN_data['MN_HOSPITALIZED_COUNT'][:i+1]) - sum(MN_data['MN_DEATH_COUNT'][:i+1]) - MN_data['MN_HOSPITALIZED_COUNT'][i-13]\n",
    "    date = MN_data['DATE_OF_INTEREST'][i]\n",
    "    date_list.append(date)\n",
    "    in_hospital_list.append(in_hospital)   \n",
    "  \n",
    "icu_hospital_list = list(np.around(np.array(in_hospital_list)*0.16))\n",
    "\n",
    "MN_hospital_dict = {'Date': date_list, 'In_Hospital':in_hospital_list, 'In_ICU':icu_hospital_list}\n",
    "MN_hospital = pd.DataFrame(MN_hospital_dict)"
   ]
  },
  {
   "cell_type": "code",
   "execution_count": 0,
   "metadata": {
    "colab": {
     "base_uri": "https://localhost:8080/",
     "height": 85
    },
    "colab_type": "code",
    "id": "-vvhmfZp4T7B",
    "outputId": "980fadd3-e173-4e0c-c243-43a327e7e6a6"
   },
   "outputs": [
    {
     "name": "stdout",
     "output_type": "stream",
     "text": [
      "          Date  In_Hospital  In_ICU\n",
      "27  03/27/2020         1545   247.0\n",
      "32.87\n",
      "34.59\n"
     ]
    }
   ],
   "source": [
    "### VALIDATION AGAINST VOX TOTAL HOSPITALIZATION AND ICU\n",
    "print(MN_hospital[MN_hospital['Date']=='03/27/2020'])\n",
    "print(round(1545/4700*100,2)) # MAKES SENSE (32.87%)\n",
    "print(round(294/850*100,2)) # MAKES SENSE (34.59%)"
   ]
  },
  {
   "cell_type": "code",
   "execution_count": 0,
   "metadata": {
    "colab": {
     "base_uri": "https://localhost:8080/",
     "height": 204
    },
    "colab_type": "code",
    "id": "1_CKyych7RBp",
    "outputId": "1ab1aa21-518f-4b75-e1bb-8e1bb1682e98"
   },
   "outputs": [
    {
     "data": {
      "text/html": [
       "<div>\n",
       "<style scoped>\n",
       "    .dataframe tbody tr th:only-of-type {\n",
       "        vertical-align: middle;\n",
       "    }\n",
       "\n",
       "    .dataframe tbody tr th {\n",
       "        vertical-align: top;\n",
       "    }\n",
       "\n",
       "    .dataframe thead th {\n",
       "        text-align: right;\n",
       "    }\n",
       "</style>\n",
       "<table border=\"1\" class=\"dataframe\">\n",
       "  <thead>\n",
       "    <tr style=\"text-align: right;\">\n",
       "      <th></th>\n",
       "      <th>Date</th>\n",
       "      <th>In_Hospital</th>\n",
       "      <th>In_ICU</th>\n",
       "    </tr>\n",
       "  </thead>\n",
       "  <tbody>\n",
       "    <tr>\n",
       "      <th>0</th>\n",
       "      <td>02/29/2020</td>\n",
       "      <td>2</td>\n",
       "      <td>0.0</td>\n",
       "    </tr>\n",
       "    <tr>\n",
       "      <th>1</th>\n",
       "      <td>03/01/2020</td>\n",
       "      <td>2</td>\n",
       "      <td>0.0</td>\n",
       "    </tr>\n",
       "    <tr>\n",
       "      <th>2</th>\n",
       "      <td>03/02/2020</td>\n",
       "      <td>6</td>\n",
       "      <td>1.0</td>\n",
       "    </tr>\n",
       "    <tr>\n",
       "      <th>3</th>\n",
       "      <td>03/03/2020</td>\n",
       "      <td>10</td>\n",
       "      <td>2.0</td>\n",
       "    </tr>\n",
       "    <tr>\n",
       "      <th>4</th>\n",
       "      <td>03/04/2020</td>\n",
       "      <td>15</td>\n",
       "      <td>2.0</td>\n",
       "    </tr>\n",
       "  </tbody>\n",
       "</table>\n",
       "</div>"
      ],
      "text/plain": [
       "         Date  In_Hospital  In_ICU\n",
       "0  02/29/2020            2     0.0\n",
       "1  03/01/2020            2     0.0\n",
       "2  03/02/2020            6     1.0\n",
       "3  03/03/2020           10     2.0\n",
       "4  03/04/2020           15     2.0"
      ]
     },
     "execution_count": 22,
     "metadata": {
      "tags": []
     },
     "output_type": "execute_result"
    }
   ],
   "source": [
    "MN_hospital.head(5)"
   ]
  },
  {
   "cell_type": "code",
   "execution_count": 0,
   "metadata": {
    "colab": {
     "base_uri": "https://localhost:8080/",
     "height": 361
    },
    "colab_type": "code",
    "id": "pUwkG1Zg3FwV",
    "outputId": "d68c57bc-e484-47a5-e2ff-3ea54414fd1e"
   },
   "outputs": [
    {
     "data": {
      "image/png": "[encoded data removed]",
      "text/plain": [
       "<Figure size 576x396 with 1 Axes>"
      ]
     },
     "metadata": {
      "tags": []
     },
     "output_type": "display_data"
    }
   ],
   "source": [
    "sns.barplot(x = 'Date', y = 'In_Hospital', data = MN_hospital, color = 'steelblue')\n",
    "sns.barplot(x = 'Date', y = 'In_ICU', data = MN_hospital, color = 'coral')\n",
    "plt.show()"
   ]
  },
  {
   "cell_type": "markdown",
   "metadata": {
    "colab_type": "text",
    "id": "A6OD0Bwk9hrO"
   },
   "source": [
    "**CONSTAINT 2: BEDS AVAILABLE**\n",
    "\n",
    "https://docs.google.com/spreadsheets/d/1xAyBFTrlxSsTKQS7IDyr_Ah4JLBYj6_HX6ijKdm4fAY/edit#gid=0\n",
    "-- ABOUT 50% of the total beds/ICU beds available are in NYC\n",
    "* TOTAL BEDS IN MANHATTHAN 14,834\t\n",
    "* COVID OCCUPIED BEDS: 4969\n",
    "* TOTAL ICU 1,427\n",
    "* COVID OCCUPIED ICU: 795"
   ]
  },
  {
   "cell_type": "code",
   "execution_count": 0,
   "metadata": {
    "colab": {
     "base_uri": "https://localhost:8080/",
     "height": 204
    },
    "colab_type": "code",
    "id": "CK9WXF0U9hNq",
    "outputId": "77c101e1-c674-4f41-c936-912b85a15a35"
   },
   "outputs": [
    {
     "data": {
      "text/html": [
       "<div>\n",
       "<style scoped>\n",
       "    .dataframe tbody tr th:only-of-type {\n",
       "        vertical-align: middle;\n",
       "    }\n",
       "\n",
       "    .dataframe tbody tr th {\n",
       "        vertical-align: top;\n",
       "    }\n",
       "\n",
       "    .dataframe thead th {\n",
       "        text-align: right;\n",
       "    }\n",
       "</style>\n",
       "<table border=\"1\" class=\"dataframe\">\n",
       "  <thead>\n",
       "    <tr style=\"text-align: right;\">\n",
       "      <th></th>\n",
       "      <th>timestamp</th>\n",
       "      <th>locality</th>\n",
       "      <th>total</th>\n",
       "      <th>total_available</th>\n",
       "      <th>icu</th>\n",
       "      <th>icu_available</th>\n",
       "    </tr>\n",
       "  </thead>\n",
       "  <tbody>\n",
       "    <tr>\n",
       "      <th>1</th>\n",
       "      <td>2020-03-26T04:00:00Z</td>\n",
       "      <td>nyc</td>\n",
       "      <td>20394</td>\n",
       "      <td>3557</td>\n",
       "      <td>2011</td>\n",
       "      <td>307</td>\n",
       "    </tr>\n",
       "    <tr>\n",
       "      <th>3</th>\n",
       "      <td>2020-03-30T04:00:00Z</td>\n",
       "      <td>nyc</td>\n",
       "      <td>20898</td>\n",
       "      <td>3240</td>\n",
       "      <td>2449</td>\n",
       "      <td>392</td>\n",
       "    </tr>\n",
       "    <tr>\n",
       "      <th>5</th>\n",
       "      <td>2020-04-01T04:00:00Z</td>\n",
       "      <td>nyc</td>\n",
       "      <td>21167</td>\n",
       "      <td>3112</td>\n",
       "      <td>2565</td>\n",
       "      <td>352</td>\n",
       "    </tr>\n",
       "    <tr>\n",
       "      <th>7</th>\n",
       "      <td>2020-04-02T04:00:00Z</td>\n",
       "      <td>nyc</td>\n",
       "      <td>22910</td>\n",
       "      <td>3975</td>\n",
       "      <td>3082</td>\n",
       "      <td>370</td>\n",
       "    </tr>\n",
       "    <tr>\n",
       "      <th>9</th>\n",
       "      <td>2020-04-03T04:00:00Z</td>\n",
       "      <td>nyc</td>\n",
       "      <td>23957</td>\n",
       "      <td>5354</td>\n",
       "      <td>3256</td>\n",
       "      <td>419</td>\n",
       "    </tr>\n",
       "  </tbody>\n",
       "</table>\n",
       "</div>"
      ],
      "text/plain": [
       "              timestamp locality  total  total_available   icu  icu_available\n",
       "1  2020-03-26T04:00:00Z      nyc  20394             3557  2011            307\n",
       "3  2020-03-30T04:00:00Z      nyc  20898             3240  2449            392\n",
       "5  2020-04-01T04:00:00Z      nyc  21167             3112  2565            352\n",
       "7  2020-04-02T04:00:00Z      nyc  22910             3975  3082            370\n",
       "9  2020-04-03T04:00:00Z      nyc  23957             5354  3256            419"
      ]
     },
     "execution_count": 24,
     "metadata": {
      "tags": []
     },
     "output_type": "execute_result"
    }
   ],
   "source": [
    "beds[beds['locality']=='nyc'].head()"
   ]
  },
  {
   "cell_type": "markdown",
   "metadata": {
    "colab_type": "text",
    "id": "355FgwBYEBi_"
   },
   "source": [
    "**CONSTAINT 3: DOCTORS**\n",
    "* NYC DOCTORS: 19,146\n",
    "* NY State: 73,299\n",
    "* Every 100k: 375.1 (2018)\n",
    "* ASSUMED THAT THERE ARE 20% MORE DOCTORS IN MANHATTAN \n",
    "* Doctor: Patient Ratio: 1:24 (INTENSIVIST) - ASSUMED ABOUT 10% OF MEDICAL DOCTORS\n",
    "* REGULAR DOCTOR: 1:10 (Assumption)"
   ]
  },
  {
   "cell_type": "code",
   "execution_count": 0,
   "metadata": {
    "colab": {
     "base_uri": "https://localhost:8080/",
     "height": 51
    },
    "colab_type": "code",
    "id": "y3CYFictD-bR",
    "outputId": "02decc0a-bb94-4de5-a7bf-5fa8201af17e"
   },
   "outputs": [
    {
     "name": "stdout",
     "output_type": "stream",
     "text": [
      "7256\n",
      "Perc of Doctors in MN: 38%\n"
     ]
    }
   ],
   "source": [
    "print(round(375.1*1.2*1611943.49/100000))\n",
    "print('Perc of Doctors in MN: ' + str(round(7255.680037188/19146*100))+'%')"
   ]
  },
  {
   "cell_type": "markdown",
   "metadata": {
    "colab_type": "text",
    "id": "G8CCjsfeKQvG"
   },
   "source": [
    "## HOSPITAL ADMISSIONS RATE\n",
    "* This file includes the rate of visits to NYC emergency departments (ED) per 100,000 people\n",
    "* Rates of subsequent admissions to the hospital through the ED, for influenza-like illness or pneumonia, by date of visit for all ages and by age group (0-17, 18-44, 45-64, 65-74, 75+ years), since February 1, 2020 based on the Health Department’s syndromic surveillance system."
   ]
  },
  {
   "cell_type": "code",
   "execution_count": 0,
   "metadata": {
    "colab": {
     "base_uri": "https://localhost:8080/",
     "height": 238
    },
    "colab_type": "code",
    "id": "LHYl_BlKhirI",
    "outputId": "061a8c11-69fc-49ea-86f3-6b88751c9bef"
   },
   "outputs": [
    {
     "data": {
      "text/plain": [
       "Admit 0-17         0.751312\n",
       "Admit 18-44        1.394286\n",
       "Admit 45-64        5.230126\n",
       "Admit 65-74        9.056205\n",
       "Admit 75+         14.347013\n",
       "Admit All ages     3.682550\n",
       "Visit 0-17        13.288072\n",
       "Visit 18-44       10.895500\n",
       "Visit 45-64       15.730359\n",
       "Visit 65-74       16.507482\n",
       "Visit 75+         20.338363\n",
       "Visit All ages    13.653367\n",
       "dtype: float64"
      ]
     },
     "execution_count": 26,
     "metadata": {
      "tags": []
     },
     "output_type": "execute_result"
    }
   ],
   "source": [
    "admission.mean()"
   ]
  },
  {
   "cell_type": "code",
   "execution_count": 0,
   "metadata": {
    "colab": {
     "base_uri": "https://localhost:8080/",
     "height": 361
    },
    "colab_type": "code",
    "id": "jmedouV1Kik_",
    "outputId": "ba6ddace-4634-4790-c7fc-6e95a851bee9"
   },
   "outputs": [
    {
     "data": {
      "image/png": "[encoded data removed]",
      "text/plain": [
       "<Figure size 576x396 with 1 Axes>"
      ]
     },
     "metadata": {
      "tags": []
     },
     "output_type": "display_data"
    }
   ],
   "source": [
    "#admission.tail(5)\n",
    "#Visit all ages: 1.88 * Mahattan Population/100000 * manhatthan proportion\n",
    "# HOW TO GET AN IDEA OF HOW MANY PEOPLE ARE IN THE MANHATTHAN HOSPITAL. \n",
    "\n",
    "\n",
    "\n",
    "fig, ax = plt.subplots()\n",
    "sns.lineplot(x='Date', y='Visit All ages', data=admission[admission['Date']>'2020-02-15'], color='coral')\n",
    "sns.lineplot(x = 'Date', y = 'Admit All ages', data=admission[admission['Date']>'2020-02-15'], color = 'steelblue')\n",
    "plt.show()\n"
   ]
  },
  {
   "cell_type": "code",
   "execution_count": 0,
   "metadata": {
    "colab": {
     "base_uri": "https://localhost:8080/",
     "height": 34
    },
    "colab_type": "code",
    "id": "iYEb8D3Ji1ON",
    "outputId": "159e938c-b26f-41ba-9160-bb9424657ae0"
   },
   "outputs": [
    {
     "data": {
      "text/plain": [
       "1466"
      ]
     },
     "execution_count": 131,
     "metadata": {
      "tags": []
     },
     "output_type": "execute_result"
    }
   ],
   "source": [
    "#int(1611943.49/100000)\n",
    "round(23624/1611943.49*100000)\t#1375.302273(on Average)"
   ]
  },
  {
   "cell_type": "markdown",
   "metadata": {
    "colab_type": "text",
    "id": "gUiTFiobNQu3"
   },
   "source": [
    "## RETRIEVE NUMBER OF DOCTORS + NURSES\n",
    "* http://www.op.nysed.gov/prof/nurse/nursecounts.htm#\n",
    "* "
   ]
  },
  {
   "cell_type": "code",
   "execution_count": 0,
   "metadata": {
    "colab": {},
    "colab_type": "code",
    "id": "Tz9rjGLrNO_Y"
   },
   "outputs": [],
   "source": [
    "#prepare for python version 3x \n",
    "from __future__ import division, print_function\n",
    "\n",
    "#import packages for web scraping/parsing\n",
    "\n",
    "import requests #functions for interacting with web pages\n",
    "from bs4 import BeautifulSoup ### DOM html manipulation\n",
    "from string import whitespace\n",
    "from nltk.corpus import stopwords\n",
    "import nltk\n",
    "from nltk import word_tokenize\n",
    "from collections import Counter\n",
    "import os\n",
    "import re  \n",
    "import string\n",
    "from textblob import TextBlob"
   ]
  },
  {
   "cell_type": "code",
   "execution_count": 0,
   "metadata": {
    "colab": {},
    "colab_type": "code",
    "id": "EQcc5mfUNSVR"
   },
   "outputs": [],
   "source": [
    "title_list = list()\n",
    "doc = list()\n",
    "url_list = list()\n",
    "most_common_list = list()\n",
    "doc_list = list()"
   ]
  },
  {
   "cell_type": "code",
   "execution_count": 0,
   "metadata": {
    "colab": {},
    "colab_type": "code",
    "id": "QZcasAyKNiB1"
   },
   "outputs": [],
   "source": [
    "def covid_doc_spider(max_pages): \n",
    "    page = 0\n",
    "    while page <= max_pages:\n",
    "        title_temp = list()\n",
    "        url = 'https://www.nychealthandhospitals.org/doctors/page/' + str(page) + '/?doctor=Emergency%20Medicine&address&submit&specialty=1&sort_by&condition=1'\n",
    "        source_code = requests.get(url)\n",
    "        plain_text = source_code.text\n",
    "        soup = BeautifulSoup(plain_text)\n",
    "        views_field = soup.findAll('div','office_ad_info_doct_detl')\n",
    "        for link in views_field:\n",
    "            links = link.findAll('p')\n",
    "            for x in links:\n",
    "                doc_list.append(x.text)\n",
    "        print(page)\n",
    "        page += 1"
   ]
  },
  {
   "cell_type": "code",
   "execution_count": 0,
   "metadata": {
    "colab": {},
    "colab_type": "code",
    "id": "_ZW73g_UN1M_"
   },
   "outputs": [],
   "source": [
    "#covid_doc_spider(100)"
   ]
  },
  {
   "cell_type": "code",
   "execution_count": 0,
   "metadata": {
    "colab": {},
    "colab_type": "code",
    "id": "SVxY11pJNlzJ"
   },
   "outputs": [],
   "source": [
    "number = [x[0] for x in enumerate(doc_list)]\n",
    "address = [x[1] for x in enumerate(doc_list)]\n",
    "zipcode = [x.split()[-4] for x in address]"
   ]
  },
  {
   "cell_type": "code",
   "execution_count": 0,
   "metadata": {
    "colab": {},
    "colab_type": "code",
    "id": "61sw5piuNolU"
   },
   "outputs": [],
   "source": [
    "dict = {'number': number, 'address':address, 'zipcode':zipcode}\n",
    "doctor_list = pd.DataFrame(dict)"
   ]
  },
  {
   "cell_type": "code",
   "execution_count": 0,
   "metadata": {
    "colab": {
     "base_uri": "https://localhost:8080/",
     "height": 204
    },
    "colab_type": "code",
    "id": "zUhoIW8zPmTk",
    "outputId": "5421cdb8-7af8-4e0e-dabd-1c9443a1dae1"
   },
   "outputs": [
    {
     "data": {
      "text/html": [
       "<div>\n",
       "<style scoped>\n",
       "    .dataframe tbody tr th:only-of-type {\n",
       "        vertical-align: middle;\n",
       "    }\n",
       "\n",
       "    .dataframe tbody tr th {\n",
       "        vertical-align: top;\n",
       "    }\n",
       "\n",
       "    .dataframe thead th {\n",
       "        text-align: right;\n",
       "    }\n",
       "</style>\n",
       "<table border=\"1\" class=\"dataframe\">\n",
       "  <thead>\n",
       "    <tr style=\"text-align: right;\">\n",
       "      <th></th>\n",
       "      <th>number</th>\n",
       "      <th>address</th>\n",
       "      <th>zipcode</th>\n",
       "    </tr>\n",
       "  </thead>\n",
       "  <tbody>\n",
       "    <tr>\n",
       "      <th>0</th>\n",
       "      <td>0</td>\n",
       "      <td>NYC Health + Hospitals/Woodhull 760 Broadway B...</td>\n",
       "      <td>11206</td>\n",
       "    </tr>\n",
       "    <tr>\n",
       "      <th>1</th>\n",
       "      <td>1</td>\n",
       "      <td>NYC Health + Hospitals/Woodhull 760 Broadway B...</td>\n",
       "      <td>11206</td>\n",
       "    </tr>\n",
       "    <tr>\n",
       "      <th>2</th>\n",
       "      <td>2</td>\n",
       "      <td>NYC Health + Hospitals/Woodhull 760 Broadway B...</td>\n",
       "      <td>11206</td>\n",
       "    </tr>\n",
       "    <tr>\n",
       "      <th>3</th>\n",
       "      <td>3</td>\n",
       "      <td>NYC Health + Hospitals/Woodhull 760 Broadway B...</td>\n",
       "      <td>11206</td>\n",
       "    </tr>\n",
       "    <tr>\n",
       "      <th>4</th>\n",
       "      <td>4</td>\n",
       "      <td>NYC Health + Hospitals/Woodhull 760 Broadway B...</td>\n",
       "      <td>11206</td>\n",
       "    </tr>\n",
       "  </tbody>\n",
       "</table>\n",
       "</div>"
      ],
      "text/plain": [
       "   number                                            address zipcode\n",
       "0       0  NYC Health + Hospitals/Woodhull 760 Broadway B...   11206\n",
       "1       1  NYC Health + Hospitals/Woodhull 760 Broadway B...   11206\n",
       "2       2  NYC Health + Hospitals/Woodhull 760 Broadway B...   11206\n",
       "3       3  NYC Health + Hospitals/Woodhull 760 Broadway B...   11206\n",
       "4       4  NYC Health + Hospitals/Woodhull 760 Broadway B...   11206"
      ]
     },
     "execution_count": 46,
     "metadata": {
      "tags": []
     },
     "output_type": "execute_result"
    }
   ],
   "source": [
    "doctor_list.head()"
   ]
  },
  {
   "cell_type": "code",
   "execution_count": 0,
   "metadata": {
    "colab": {
     "base_uri": "https://localhost:8080/",
     "height": 390
    },
    "colab_type": "code",
    "id": "gtYAi0-pNp00",
    "outputId": "ae9df90d-c776-4c6e-be79-1a78cc01c72b"
   },
   "outputs": [
    {
     "data": {
      "text/html": [
       "<div>\n",
       "<style scoped>\n",
       "    .dataframe tbody tr th:only-of-type {\n",
       "        vertical-align: middle;\n",
       "    }\n",
       "\n",
       "    .dataframe tbody tr th {\n",
       "        vertical-align: top;\n",
       "    }\n",
       "\n",
       "    .dataframe thead th {\n",
       "        text-align: right;\n",
       "    }\n",
       "</style>\n",
       "<table border=\"1\" class=\"dataframe\">\n",
       "  <thead>\n",
       "    <tr style=\"text-align: right;\">\n",
       "      <th></th>\n",
       "      <th>count_by_zip</th>\n",
       "    </tr>\n",
       "  </thead>\n",
       "  <tbody>\n",
       "    <tr>\n",
       "      <th>10016</th>\n",
       "      <td>129</td>\n",
       "    </tr>\n",
       "    <tr>\n",
       "      <th>10029</th>\n",
       "      <td>42</td>\n",
       "    </tr>\n",
       "    <tr>\n",
       "      <th>10037</th>\n",
       "      <td>62</td>\n",
       "    </tr>\n",
       "    <tr>\n",
       "      <th>10451</th>\n",
       "      <td>106</td>\n",
       "    </tr>\n",
       "    <tr>\n",
       "      <th>10461</th>\n",
       "      <td>80</td>\n",
       "    </tr>\n",
       "    <tr>\n",
       "      <th>10467</th>\n",
       "      <td>85</td>\n",
       "    </tr>\n",
       "    <tr>\n",
       "      <th>11203</th>\n",
       "      <td>90</td>\n",
       "    </tr>\n",
       "    <tr>\n",
       "      <th>11206</th>\n",
       "      <td>98</td>\n",
       "    </tr>\n",
       "    <tr>\n",
       "      <th>11235</th>\n",
       "      <td>73</td>\n",
       "    </tr>\n",
       "    <tr>\n",
       "      <th>11373</th>\n",
       "      <td>87</td>\n",
       "    </tr>\n",
       "    <tr>\n",
       "      <th>11432</th>\n",
       "      <td>115</td>\n",
       "    </tr>\n",
       "  </tbody>\n",
       "</table>\n",
       "</div>"
      ],
      "text/plain": [
       "       count_by_zip\n",
       "10016           129\n",
       "10029            42\n",
       "10037            62\n",
       "10451           106\n",
       "10461            80\n",
       "10467            85\n",
       "11203            90\n",
       "11206            98\n",
       "11235            73\n",
       "11373            87\n",
       "11432           115"
      ]
     },
     "execution_count": 47,
     "metadata": {
      "tags": []
     },
     "output_type": "execute_result"
    }
   ],
   "source": [
    "doctor_list.groupby(zipcode).agg(count_by_zip = pd.NamedAgg(\"zipcode\", \"count\"))"
   ]
  },
  {
   "cell_type": "code",
   "execution_count": 0,
   "metadata": {
    "colab": {
     "base_uri": "https://localhost:8080/",
     "height": 419
    },
    "colab_type": "code",
    "id": "s4iub7YN5Crt",
    "outputId": "ab7f991a-1e06-4da8-f5ce-21e2f6fafd08"
   },
   "outputs": [
    {
     "data": {
      "text/html": [
       "<div>\n",
       "<style scoped>\n",
       "    .dataframe tbody tr th:only-of-type {\n",
       "        vertical-align: middle;\n",
       "    }\n",
       "\n",
       "    .dataframe tbody tr th {\n",
       "        vertical-align: top;\n",
       "    }\n",
       "\n",
       "    .dataframe thead th {\n",
       "        text-align: right;\n",
       "    }\n",
       "</style>\n",
       "<table border=\"1\" class=\"dataframe\">\n",
       "  <thead>\n",
       "    <tr style=\"text-align: right;\">\n",
       "      <th></th>\n",
       "      <th>Unnamed: 0</th>\n",
       "      <th>number</th>\n",
       "      <th>address</th>\n",
       "      <th>zipcode</th>\n",
       "    </tr>\n",
       "  </thead>\n",
       "  <tbody>\n",
       "    <tr>\n",
       "      <th>0</th>\n",
       "      <td>0</td>\n",
       "      <td>0</td>\n",
       "      <td>NYC Health + Hospitals/Woodhull 760 Broadway B...</td>\n",
       "      <td>11206</td>\n",
       "    </tr>\n",
       "    <tr>\n",
       "      <th>1</th>\n",
       "      <td>1</td>\n",
       "      <td>1</td>\n",
       "      <td>NYC Health + Hospitals/Woodhull 760 Broadway B...</td>\n",
       "      <td>11206</td>\n",
       "    </tr>\n",
       "    <tr>\n",
       "      <th>2</th>\n",
       "      <td>2</td>\n",
       "      <td>2</td>\n",
       "      <td>NYC Health + Hospitals/Woodhull 760 Broadway B...</td>\n",
       "      <td>11206</td>\n",
       "    </tr>\n",
       "    <tr>\n",
       "      <th>3</th>\n",
       "      <td>3</td>\n",
       "      <td>3</td>\n",
       "      <td>NYC Health + Hospitals/Woodhull 760 Broadway B...</td>\n",
       "      <td>11206</td>\n",
       "    </tr>\n",
       "    <tr>\n",
       "      <th>4</th>\n",
       "      <td>4</td>\n",
       "      <td>4</td>\n",
       "      <td>NYC Health + Hospitals/Woodhull 760 Broadway B...</td>\n",
       "      <td>11206</td>\n",
       "    </tr>\n",
       "    <tr>\n",
       "      <th>...</th>\n",
       "      <td>...</td>\n",
       "      <td>...</td>\n",
       "      <td>...</td>\n",
       "      <td>...</td>\n",
       "    </tr>\n",
       "    <tr>\n",
       "      <th>962</th>\n",
       "      <td>962</td>\n",
       "      <td>962</td>\n",
       "      <td>NYC Health + Hospitals/Bellevue 462 First Aven...</td>\n",
       "      <td>10016</td>\n",
       "    </tr>\n",
       "    <tr>\n",
       "      <th>963</th>\n",
       "      <td>963</td>\n",
       "      <td>963</td>\n",
       "      <td>NYC Health + Hospitals/Bellevue 462 First Aven...</td>\n",
       "      <td>10016</td>\n",
       "    </tr>\n",
       "    <tr>\n",
       "      <th>964</th>\n",
       "      <td>964</td>\n",
       "      <td>964</td>\n",
       "      <td>NYC Health + Hospitals/Bellevue 462 First Aven...</td>\n",
       "      <td>10016</td>\n",
       "    </tr>\n",
       "    <tr>\n",
       "      <th>965</th>\n",
       "      <td>965</td>\n",
       "      <td>965</td>\n",
       "      <td>NYC Health + Hospitals/Bellevue 462 First Aven...</td>\n",
       "      <td>10016</td>\n",
       "    </tr>\n",
       "    <tr>\n",
       "      <th>966</th>\n",
       "      <td>966</td>\n",
       "      <td>966</td>\n",
       "      <td>NYC Health + Hospitals/Bellevue 462 First Aven...</td>\n",
       "      <td>10016</td>\n",
       "    </tr>\n",
       "  </tbody>\n",
       "</table>\n",
       "<p>967 rows × 4 columns</p>\n",
       "</div>"
      ],
      "text/plain": [
       "     Unnamed: 0  ...  zipcode\n",
       "0             0  ...    11206\n",
       "1             1  ...    11206\n",
       "2             2  ...    11206\n",
       "3             3  ...    11206\n",
       "4             4  ...    11206\n",
       "..          ...  ...      ...\n",
       "962         962  ...    10016\n",
       "963         963  ...    10016\n",
       "964         964  ...    10016\n",
       "965         965  ...    10016\n",
       "966         966  ...    10016\n",
       "\n",
       "[967 rows x 4 columns]"
      ]
     },
     "execution_count": 57,
     "metadata": {
      "tags": []
     },
     "output_type": "execute_result"
    }
   ],
   "source": [
    "pd.read_csv('sample_data/doctor_list.csv')"
   ]
  },
  {
   "cell_type": "markdown",
   "metadata": {
    "colab_type": "text",
    "id": "h1Los7rTSzzg"
   },
   "source": [
    "### FORECAST\n",
    "#### In case we are doing forecast on covid19 cases\n",
    "* https://www.youtube.com/watch?v=vW2LnlZR3sA - LOGISTIC\n",
    "* https://www.youtube.com/watch?v=AnzKI9B6gII - PROPHET"
   ]
  },
  {
   "cell_type": "code",
   "execution_count": 0,
   "metadata": {
    "colab": {},
    "colab_type": "code",
    "id": "1NUgmQC_NuB6"
   },
   "outputs": [],
   "source": []
  }
 ],
 "metadata": {
  "colab": {
   "collapsed_sections": [],
   "name": "460 Analysis.ipynb",
   "provenance": []
  },
  "kernelspec": {
   "display_name": "Python 3",
   "language": "python",
   "name": "python3"
  },
  "language_info": {
   "codemirror_mode": {
    "name": "ipython",
    "version": 3
   },
   "file_extension": ".py",
   "mimetype": "text/x-python",
   "name": "python",
   "nbconvert_exporter": "python",
   "pygments_lexer": "ipython3",
   "version": "3.7.6"
  }
 },
 "nbformat": 4,
 "nbformat_minor": 1
}
